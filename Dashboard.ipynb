{
 "cells": [
  {
   "cell_type": "markdown",
   "metadata": {},
   "source": [
    "# DIY Covid-19 Dashboard"
   ]
  },
  {
   "cell_type": "code",
   "execution_count": 37,
   "metadata": {},
   "outputs": [],
   "source": [
    "from IPython.display import clear_output #imports all libraries that were used for the dashboard\n",
    "import ipywidgets as wdg\n",
    "import pandas as pd\n",
    "import numpy as np\n",
    "import matplotlib.pyplot as plt\n",
    "import json\n",
    "from uk_covid19 import Cov19API"
   ]
  },
  {
   "cell_type": "code",
   "execution_count": 38,
   "metadata": {
    "editable": true,
    "slideshow": {
     "slide_type": ""
    },
    "tags": []
   },
   "outputs": [],
   "source": [
    "%matplotlib inline\n",
    "plt.rcParams['figure.dpi'] = 100"
   ]
  },
  {
   "cell_type": "code",
   "execution_count": 39,
   "metadata": {},
   "outputs": [],
   "source": [
    "with open(\"england.json\", \"rt\") as INFILE:\n",
    "    jsondata = json.load(INFILE) #This opens the json file from the directory, assigns to variable\n",
    "\n",
    "\n"
   ]
  },
  {
   "cell_type": "markdown",
   "metadata": {},
   "source": [
    "\n",
    "\n"
   ]
  },
  {
   "cell_type": "code",
   "execution_count": 40,
   "metadata": {
    "editable": true,
    "slideshow": {
     "slide_type": ""
    },
    "tags": []
   },
   "outputs": [],
   "source": [
    "#This function parses date string into pandas datetime object\n",
    "def parse_date(datestring):\n",
    "    return pd.to_datetime(datestring, format=\"%Y-%m-%d\")\n",
    "\n",
    "# This function wrangles the data and is used by both graphs \n",
    "def wrangle_data(rawdata):\n",
    "    datalist = rawdata['data']\n",
    "    dates = [entry['date'] for entry in datalist]\n",
    "    dates.sort()\n",
    "\n",
    "    startdate = parse_date(dates[0])\n",
    "    enddate = parse_date(dates[-1])\n",
    "\n",
    "    index = pd.date_range(startdate, enddate, freq='D')\n",
    "    timeseriesdf = pd.DataFrame(index=index, columns=['cases', 'hospital', 'deaths'])\n",
    "\n",
    "    for entry in datalist:\n",
    "        date = parse_date(entry['date'])\n",
    "        for column in ['cases', 'hospital', 'deaths']:\n",
    "            if pd.isna(timeseriesdf.loc[date, column]):\n",
    "                value = float(entry[column]) if entry[column] is not None else 0.0\n",
    "                timeseriesdf.loc[date, column] = value\n",
    "\n",
    "    timeseriesdf.fillna(0.0, inplace=True)\n",
    "    return timeseriesdf\n",
    "\n",
    "# Wrangles the England jsondata then assign to another variable\n",
    "timeseries_df = wrangle_data(jsondata)"
   ]
  },
  {
   "cell_type": "code",
   "execution_count": 41,
   "metadata": {
    "editable": true,
    "slideshow": {
     "slide_type": ""
    },
    "tags": []
   },
   "outputs": [],
   "source": [
    "# Function to access the API to request the most current England data from the server\n",
    "def access_api():\n",
    "    filters = [\n",
    "        'areaType=nation', \n",
    "        'areaName=England'\n",
    "    ]\n",
    "    structure = {\n",
    "        \"date\": \"date\",\n",
    "        \"cases\": \"newCasesBySpecimenDateRollingRate\",\n",
    "        \"hospital\": \"newAdmissionsRollingRate\",\n",
    "        \"deaths\": \"newDailyNsoDeathsByDeathDate\"\n",
    "    }\n",
    "    api = Cov19API(filters=filters, structure=structure)\n",
    "    timeseries = api.get_json()\n",
    "    return timeseries\n"
   ]
  },
  {
   "cell_type": "code",
   "execution_count": 42,
   "metadata": {},
   "outputs": [],
   "source": [
    "# Button callback function, retrieves current data when button pressed, uses exceptional handling\n",
    "def api_button_callback(button):\n",
    "    while True:\n",
    "        try:\n",
    "            apidata = access_api()\n",
    "            global timeseries_df \n",
    "            timeseries_df = wrangle_data(apidata)\n",
    "            refresh_graph(series.options, scale.options) #fetches the value from widgets below\n",
    "            apibutton.icon = \"check\"\n",
    "            apibutton.disabled = True\n",
    "            break\n",
    "        except:\n",
    "            print('The API request can not be processed at this moment. Please wait temporily before trying again.')\n",
    "            \n",
    "\n"
   ]
  },
  {
   "cell_type": "markdown",
   "metadata": {},
   "source": [
    "## This graph shows Covid Cases, hospital and deaths for England and Scotland. Please press 'Refresh Data' to get current data."
   ]
  },
  {
   "cell_type": "markdown",
   "metadata": {},
   "source": [
    "## England"
   ]
  },
  {
   "cell_type": "code",
   "execution_count": 43,
   "metadata": {
    "editable": true,
    "slideshow": {
     "slide_type": ""
    },
    "tags": []
   },
   "outputs": [
    {
     "data": {
      "application/vnd.jupyter.widget-view+json": {
       "model_id": "bd1f5d58beca4a9d961ea242a7aefe2a",
       "version_major": 2,
       "version_minor": 0
      },
      "text/plain": [
       "HBox(children=(SelectMultiple(description='Stats:', index=(0, 1, 2), options=('cases', 'hospital', 'deaths'), …"
      ]
     },
     "metadata": {},
     "output_type": "display_data"
    },
    {
     "data": {
      "application/vnd.jupyter.widget-view+json": {
       "model_id": "9c67ef6f864e474988ccaff725cc64f1",
       "version_major": 2,
       "version_minor": 0
      },
      "text/plain": [
       "Output()"
      ]
     },
     "metadata": {},
     "output_type": "display_data"
    },
    {
     "data": {
      "application/vnd.jupyter.widget-view+json": {
       "model_id": "6dd85cef32da497b8677d3e73d282f39",
       "version_major": 2,
       "version_minor": 0
      },
      "text/plain": [
       "Button(description='Refresh Data', icon='exclamation-triangle', style=ButtonStyle(), tooltip='Click to downloa…"
      ]
     },
     "metadata": {},
     "output_type": "display_data"
    }
   ],
   "source": [
    "#This wigdets allows the user to control the graph with the three options\n",
    "series = wdg.SelectMultiple(\n",
    "    options=['cases', 'hospital', 'deaths'],\n",
    "    value=['cases', 'hospital', 'deaths'],\n",
    "    rows=3,\n",
    "    description='Stats:',\n",
    "    disabled=False\n",
    ")\n",
    "\n",
    "#Widgets gives user two options for how the graph is displayed\n",
    "scale = wdg.RadioButtons(\n",
    "    options=['linear', 'log'],\n",
    "    description='Scale:',\n",
    "    disabled=False\n",
    ")\n",
    "\n",
    "# Function to refresh/display the graph depending what the user clicks\n",
    "def refresh_graph(gcols, gscale):\n",
    "    if gscale == 'linear':\n",
    "        logscale = False\n",
    "    else:\n",
    "        logscale = True\n",
    "    ncols = len(gcols)\n",
    "    if ncols > 0:\n",
    "        timeseries_df[list(gcols)].plot(logy=logscale)\n",
    "        plt.show()  \n",
    "    else:\n",
    "        print(\"Click to select data for graph\")\n",
    "        print(\"(CTRL-Click to select more than one category)\")\n",
    "\n",
    "\n",
    "controls = wdg.HBox([series, scale]) \n",
    "\n",
    "   \n",
    "graph = wdg.interactive_output(refresh_graph, {'gcols': series, 'gscale': scale})\n",
    "\n",
    "\n",
    "display(controls, graph) #displays the graph and controls\n",
    "\n",
    "# Button widget prompting user to refresh data\n",
    "apibutton = wdg.Button(\n",
    "    description='Refresh Data',\n",
    "    disabled=False,\n",
    "    button_style='',\n",
    "    tooltip=\"Click to download current Public Health England data\",\n",
    "    icon='exclamation-triangle'\n",
    ")\n",
    "\n",
    "#When clicked it goes to api_button_callback function\n",
    "apibutton.on_click(api_button_callback)\n",
    "\n",
    "# Displays the button\n",
    "display(apibutton)"
   ]
  },
  {
   "cell_type": "code",
   "execution_count": 44,
   "metadata": {},
   "outputs": [],
   "source": [
    "#The Scotland graph is very similar to the previous one, alot of functions can be reused.\n",
    "\n",
    "with open(\"scotland.json\", \"rt\") as INFILE:\n",
    "    jsondata1 = json.load(INFILE)\n",
    "\n"
   ]
  },
  {
   "cell_type": "code",
   "execution_count": 45,
   "metadata": {},
   "outputs": [],
   "source": [
    "timeseries_df_scotland = wrangle_data(jsondata1) #can just pass through previous function"
   ]
  },
  {
   "cell_type": "code",
   "execution_count": 46,
   "metadata": {},
   "outputs": [],
   "source": [
    "def access_api_scotland(): #different function get get data on Scotland\n",
    "    filters = [\n",
    "        'areaType=nation',  \n",
    "        'areaName=Scotland'\n",
    "    ]\n",
    "    structure = {\n",
    "        \"date\": \"date\",\n",
    "        \"cases\": \"newCasesBySpecimenDateRollingRate\",\n",
    "        \"hospital\": \"newAdmissionsRollingRate\",\n",
    "        \"deaths\": \"newDailyNsoDeathsByDeathDate\"\n",
    "    }\n",
    "    api = Cov19API(filters=filters, structure=structure)\n",
    "    timeseries_scotland = api.get_json()\n",
    "    return timeseries_scotland"
   ]
  },
  {
   "cell_type": "code",
   "execution_count": 47,
   "metadata": {},
   "outputs": [],
   "source": [
    "def api_button_callback_scotland(button): #different function to allow when button clicked to get the data and refresh graph\n",
    "    while True:\n",
    "        try:\n",
    "            apidata_scotland = access_api_scotland()\n",
    "            timeseries_df_scotland = wrangle_data(apidata_scotland)\n",
    "            refresh_graph(series_scotland.options, scale_scotland.options)\n",
    "            apibutton_scotland.icon = \"check\"\n",
    "            apibutton_scotland.disabled = True\n",
    "            break\n",
    "        except:\n",
    "            print('The API request can not be processed at this moment. Please wait temporily before trying again.')\n",
    "            \n",
    "    \n",
    "  \n",
    "        "
   ]
  },
  {
   "cell_type": "markdown",
   "metadata": {},
   "source": [
    "## Scotland"
   ]
  },
  {
   "cell_type": "code",
   "execution_count": 50,
   "metadata": {},
   "outputs": [
    {
     "data": {
      "application/vnd.jupyter.widget-view+json": {
       "model_id": "28930623ee7a40ebbf875b56e603cecd",
       "version_major": 2,
       "version_minor": 0
      },
      "text/plain": [
       "HBox(children=(SelectMultiple(description='Stats:', index=(0, 1, 2), options=('cases', 'hospital', 'deaths'), …"
      ]
     },
     "metadata": {},
     "output_type": "display_data"
    },
    {
     "data": {
      "application/vnd.jupyter.widget-view+json": {
       "model_id": "88faa42a97584628a3789ca6740c60c2",
       "version_major": 2,
       "version_minor": 0
      },
      "text/plain": [
       "Output()"
      ]
     },
     "metadata": {},
     "output_type": "display_data"
    },
    {
     "data": {
      "application/vnd.jupyter.widget-view+json": {
       "model_id": "0d1e60d9d0c94d0bb8337e73c2e92423",
       "version_major": 2,
       "version_minor": 0
      },
      "text/plain": [
       "Button(description='Refresh Data', icon='exclamation-triangle', style=ButtonStyle(), tooltip='Click to downloa…"
      ]
     },
     "metadata": {},
     "output_type": "display_data"
    }
   ],
   "source": [
    "#very similar to england variables, just names of variables changed to avoid confusion\n",
    "series_scotland = wdg.SelectMultiple(\n",
    "    options=['cases', 'hospital', 'deaths'],\n",
    "    value=['cases', 'hospital', 'deaths'],\n",
    "    rows=3,\n",
    "    description='Stats:',\n",
    "    disabled=False\n",
    ")\n",
    "\n",
    "scale_scotland = wdg.RadioButtons(\n",
    "    options=['linear', 'log'],\n",
    "    description='Scale:',\n",
    "    disabled=False\n",
    ")\n",
    "\n",
    "def refresh_graph_scotland(gcols, gscale):\n",
    "    if gscale == 'linear':\n",
    "        logscale = False\n",
    "    else:\n",
    "        logscale = True\n",
    "    ncols = len(gcols)\n",
    "    if ncols > 0:\n",
    "        timeseries_df_scotland[list(gcols)].plot(logy=logscale)\n",
    "        plt.show()\n",
    "    else:\n",
    "        print(\"Click to select data for Scotland graph\")\n",
    "        print(\"(CTRL-Click to select more than one category)\")\n",
    "\n",
    "\n",
    "controls_scotland = wdg.HBox([series_scotland, scale_scotland])\n",
    "\n",
    "    \n",
    "graph_scotland = wdg.interactive_output(refresh_graph_scotland, {'gcols': series_scotland, 'gscale': scale_scotland})\n",
    "\n",
    "\n",
    "display(controls_scotland, graph_scotland)\n",
    "\n",
    "\n",
    "apibutton_scotland = wdg.Button(\n",
    "    description='Refresh Data',\n",
    "    disabled=False,\n",
    "    button_style='',\n",
    "    tooltip=\"Click to download current Scotland data\",\n",
    "    icon='exclamation-triangle'\n",
    ")\n",
    "\n",
    "\n",
    "apibutton_scotland.on_click(api_button_callback_scotland)\n",
    "\n",
    "\n",
    "display(apibutton_scotland)"
   ]
  }
 ],
 "metadata": {
  "kernelspec": {
   "display_name": "Python 3 (ipykernel)",
   "language": "python",
   "name": "python3"
  },
  "language_info": {
   "codemirror_mode": {
    "name": "ipython",
    "version": 3
   },
   "file_extension": ".py",
   "mimetype": "text/x-python",
   "name": "python",
   "nbconvert_exporter": "python",
   "pygments_lexer": "ipython3",
   "version": "3.10.13"
  }
 },
 "nbformat": 4,
 "nbformat_minor": 4
}
